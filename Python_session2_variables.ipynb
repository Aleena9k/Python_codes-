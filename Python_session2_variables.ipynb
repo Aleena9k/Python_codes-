{
 "cells": [
  {
   "cell_type": "code",
   "execution_count": 3,
   "id": "10ec0ec7-0e31-46e5-ab11-1b29f3999728",
   "metadata": {},
   "outputs": [
    {
     "data": {
      "text/plain": [
       "'C:\\\\Users\\\\Hp\\\\Documents\\\\Python_sessions'"
      ]
     },
     "execution_count": 3,
     "metadata": {},
     "output_type": "execute_result"
    }
   ],
   "source": [
    "import os\n",
    "os.getcwd()\n",
    "#get current working directory(cwd)"
   ]
  },
  {
   "cell_type": "markdown",
   "id": "db4ebf8b-431c-4a23-8efd-21198a3574da",
   "metadata": {},
   "source": [
    "## Variables"
   ]
  },
  {
   "cell_type": "markdown",
   "id": "6fa3d9d2-beed-4c13-8b2b-7822f782b0d5",
   "metadata": {},
   "source": [
    "Varibales are used to store the values, and the values can be changed."
   ]
  },
  {
   "cell_type": "code",
   "execution_count": 8,
   "id": "0afada7e-3392-4fc9-bf1e-a6401ed7d94c",
   "metadata": {},
   "outputs": [
    {
     "name": "stdout",
     "output_type": "stream",
     "text": [
      "100\n"
     ]
    }
   ],
   "source": [
    "num = 100\n",
    "#value 100 is stored in a variable called : num\n",
    "print(num)"
   ]
  },
  {
   "cell_type": "code",
   "execution_count": 12,
   "id": "f1dc8fe1-60df-4d4f-81e0-ad7ee4127cb7",
   "metadata": {},
   "outputs": [
    {
     "name": "stdout",
     "output_type": "stream",
     "text": [
      "200\n"
     ]
    }
   ],
   "source": [
    "num = 200\n",
    "print(num)"
   ]
  },
  {
   "cell_type": "code",
   "execution_count": 14,
   "id": "0b38ada8-18c5-4f01-9351-8cb183d9a462",
   "metadata": {},
   "outputs": [
    {
     "data": {
      "text/plain": [
       "200"
      ]
     },
     "execution_count": 14,
     "metadata": {},
     "output_type": "execute_result"
    }
   ],
   "source": [
    "NUMBER = 200\n",
    "NUMBER"
   ]
  },
  {
   "cell_type": "code",
   "execution_count": 16,
   "id": "65ff7ee2-7222-4bec-b159-858fc91bf678",
   "metadata": {},
   "outputs": [
    {
     "data": {
      "text/plain": [
       "300"
      ]
     },
     "execution_count": 16,
     "metadata": {},
     "output_type": "execute_result"
    }
   ],
   "source": [
    "number = 300\n",
    "number"
   ]
  },
  {
   "cell_type": "code",
   "execution_count": 18,
   "id": "d65b8eb2-7c58-4162-9188-06b77f6792fa",
   "metadata": {},
   "outputs": [
    {
     "data": {
      "text/plain": [
       "(300, 200)"
      ]
     },
     "execution_count": 18,
     "metadata": {},
     "output_type": "execute_result"
    }
   ],
   "source": [
    "number, NUMBER"
   ]
  },
  {
   "cell_type": "code",
   "execution_count": 20,
   "id": "d4258f22-e3b9-4c05-b36f-6e8097299bec",
   "metadata": {},
   "outputs": [
    {
     "data": {
      "text/plain": [
       "300"
      ]
     },
     "execution_count": 20,
     "metadata": {},
     "output_type": "execute_result"
    }
   ],
   "source": [
    "number123 = 300\n",
    "number123"
   ]
  },
  {
   "cell_type": "code",
   "execution_count": 22,
   "id": "bfc17c06-c61b-4502-833f-523fce7f2beb",
   "metadata": {},
   "outputs": [
    {
     "ename": "SyntaxError",
     "evalue": "invalid decimal literal (2979435193.py, line 1)",
     "output_type": "error",
     "traceback": [
      "\u001b[1;36m  Cell \u001b[1;32mIn[22], line 1\u001b[1;36m\u001b[0m\n\u001b[1;33m    123number = 400\u001b[0m\n\u001b[1;37m      ^\u001b[0m\n\u001b[1;31mSyntaxError\u001b[0m\u001b[1;31m:\u001b[0m invalid decimal literal\n"
     ]
    }
   ],
   "source": [
    "123number = 400\n",
    "123number"
   ]
  },
  {
   "cell_type": "code",
   "execution_count": null,
   "id": "ba61cb02-b292-4d05-b31a-14460a47710c",
   "metadata": {},
   "outputs": [],
   "source": [
    "number #works\n",
    "NUMBER #works\n",
    "number123 #works\n",
    "123number #Notworks"
   ]
  },
  {
   "cell_type": "code",
   "execution_count": 25,
   "id": "6e97fd36-4f0f-4932-84ce-8e34808fba33",
   "metadata": {},
   "outputs": [
    {
     "data": {
      "text/plain": [
       "500"
      ]
     },
     "execution_count": 25,
     "metadata": {},
     "output_type": "execute_result"
    }
   ],
   "source": [
    "NUMBERone = 500\n",
    "NUMBERone"
   ]
  },
  {
   "cell_type": "code",
   "execution_count": 27,
   "id": "ea9f42e4-7ee7-4263-99f1-1f7919ec7959",
   "metadata": {},
   "outputs": [
    {
     "ename": "SyntaxError",
     "evalue": "invalid syntax (275804197.py, line 1)",
     "output_type": "error",
     "traceback": [
      "\u001b[1;36m  Cell \u001b[1;32mIn[27], line 1\u001b[1;36m\u001b[0m\n\u001b[1;33m    number$one=600\u001b[0m\n\u001b[1;37m          ^\u001b[0m\n\u001b[1;31mSyntaxError\u001b[0m\u001b[1;31m:\u001b[0m invalid syntax\n"
     ]
    }
   ],
   "source": [
    "number$one=600\n",
    "number$one"
   ]
  },
  {
   "cell_type": "code",
   "execution_count": 29,
   "id": "2f2c26a4-52ce-4f9a-b207-e45059a48e9d",
   "metadata": {},
   "outputs": [
    {
     "ename": "SyntaxError",
     "evalue": "cannot assign to expression here. Maybe you meant '==' instead of '='? (1679305489.py, line 1)",
     "output_type": "error",
     "traceback": [
      "\u001b[1;36m  Cell \u001b[1;32mIn[29], line 1\u001b[1;36m\u001b[0m\n\u001b[1;33m    number&one = 600\u001b[0m\n\u001b[1;37m    ^\u001b[0m\n\u001b[1;31mSyntaxError\u001b[0m\u001b[1;31m:\u001b[0m cannot assign to expression here. Maybe you meant '==' instead of '='?\n"
     ]
    }
   ],
   "source": [
    "number&one = 600\n",
    "number&one"
   ]
  },
  {
   "cell_type": "code",
   "execution_count": 31,
   "id": "ea1b112c-fc72-491d-a7c8-3d99ba7c0099",
   "metadata": {},
   "outputs": [
    {
     "ename": "SyntaxError",
     "evalue": "cannot assign to expression here. Maybe you meant '==' instead of '='? (2319641898.py, line 1)",
     "output_type": "error",
     "traceback": [
      "\u001b[1;36m  Cell \u001b[1;32mIn[31], line 1\u001b[1;36m\u001b[0m\n\u001b[1;33m    number*one = 900\u001b[0m\n\u001b[1;37m    ^\u001b[0m\n\u001b[1;31mSyntaxError\u001b[0m\u001b[1;31m:\u001b[0m cannot assign to expression here. Maybe you meant '==' instead of '='?\n"
     ]
    }
   ],
   "source": [
    "number*one = 900\n",
    "number*one"
   ]
  },
  {
   "cell_type": "code",
   "execution_count": 35,
   "id": "ccbc7517-cbda-4e39-ae68-f53b658defbd",
   "metadata": {},
   "outputs": [
    {
     "data": {
      "text/plain": [
       "1000"
      ]
     },
     "execution_count": 35,
     "metadata": {},
     "output_type": "execute_result"
    }
   ],
   "source": [
    "number_one = 1000\n",
    "number_one"
   ]
  },
  {
   "cell_type": "code",
   "execution_count": 37,
   "id": "67dcbebb-9674-4f31-bc03-fc72fabb0668",
   "metadata": {},
   "outputs": [
    {
     "ename": "SyntaxError",
     "evalue": "invalid syntax (1252336201.py, line 1)",
     "output_type": "error",
     "traceback": [
      "\u001b[1;36m  Cell \u001b[1;32mIn[37], line 1\u001b[1;36m\u001b[0m\n\u001b[1;33m    number one = 2000\u001b[0m\n\u001b[1;37m           ^\u001b[0m\n\u001b[1;31mSyntaxError\u001b[0m\u001b[1;31m:\u001b[0m invalid syntax\n"
     ]
    }
   ],
   "source": [
    "number one = 2000\n",
    "number one"
   ]
  },
  {
   "cell_type": "code",
   "execution_count": null,
   "id": "4a5a0400-5d62-4ea4-a2d0-418e1fe2a080",
   "metadata": {},
   "outputs": [],
   "source": [
    "number #works\n",
    "NUMBER #works\n",
    "number123 #works\n",
    "123number #Notworks\n",
    "number$one #NM\n",
    "number&one #NW\n",
    "number*one #NW\n",
    "number_one #W\n",
    "number one #NW\n",
    "if = 100 #NW\n",
    "_ = 200 #works"
   ]
  },
  {
   "cell_type": "code",
   "execution_count": null,
   "id": "8a3531f3-917e-41ef-8f14-7d849970150f",
   "metadata": {},
   "outputs": [],
   "source": [
    "#Special Characters : Keywords\n",
    "if\n",
    "else\n",
    "True\n",
    "False\n",
    "for\n",
    "while"
   ]
  },
  {
   "cell_type": "markdown",
   "id": "c5f354f7-ccbd-4d34-8389-1a96e321a39e",
   "metadata": {},
   "source": [
    "- Variables can be Capital letters\n",
    "- Variables can be a small letter\n",
    "- Variables can be a mix of both capital and small letters\n",
    "- Variables can be a mix of letters and numbers as **suffix**\n",
    "- Variables can not be a mix of letters and numbers as **prefix**\n",
    "- Variables can not be include special characters except **underscore**\n",
    "- Variables can not be include a **space between words** \n",
    "- Only Underscore is also considered as variables\n",
    "- Inbuilt keywords can not be a variables.\n"
   ]
  },
  {
   "cell_type": "code",
   "execution_count": 44,
   "id": "db7fe9fe-ed32-40f1-affd-e7ea04ecda0b",
   "metadata": {},
   "outputs": [
    {
     "data": {
      "text/plain": [
       "890"
      ]
     },
     "execution_count": 44,
     "metadata": {},
     "output_type": "execute_result"
    }
   ],
   "source": [
    "_ = 890\n",
    "_"
   ]
  },
  {
   "cell_type": "code",
   "execution_count": null,
   "id": "34931794-279e-48f8-bc04-801a61afb84e",
   "metadata": {},
   "outputs": [],
   "source": []
  }
 ],
 "metadata": {
  "kernelspec": {
   "display_name": "Python 3 (ipykernel)",
   "language": "python",
   "name": "python3"
  },
  "language_info": {
   "codemirror_mode": {
    "name": "ipython",
    "version": 3
   },
   "file_extension": ".py",
   "mimetype": "text/x-python",
   "name": "python",
   "nbconvert_exporter": "python",
   "pygments_lexer": "ipython3",
   "version": "3.12.4"
  }
 },
 "nbformat": 4,
 "nbformat_minor": 5
}
