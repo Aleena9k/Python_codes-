{
 "cells": [
  {
   "cell_type": "markdown",
   "id": "5aee4a5b-7073-48e0-8636-632762cda9df",
   "metadata": {},
   "source": [
    "## Datatypes"
   ]
  },
  {
   "cell_type": "markdown",
   "id": "0044c323-3591-42d2-b5af-a11137e305b1",
   "metadata": {},
   "source": [
    "- Python can say data type of the value without initializing.\n",
    "\n",
    "- Which means the datatype automatically consider\n",
    "\n",
    "- Python has some in built datatype structure\n",
    "\n",
    "- int : integer\n",
    "- float\n",
    "- str : string\n",
    "- bool : boolean\n",
    "- complex\n",
    "- list\n",
    "- tuple\n",
    "- dict : dictionary\n",
    "- set\n",
    "- frozenset\n",
    "- bytes\n",
    "- bytearray\n",
    "- memoryview\n",
    "  \n"
   ]
  },
  {
   "cell_type": "markdown",
   "id": "4995d671-6e3b-47f4-9cbf-c46a311fd4f3",
   "metadata": {},
   "source": [
    "#### Integer"
   ]
  },
  {
   "cell_type": "code",
   "execution_count": 6,
   "id": "91a3fc6f-85dc-445b-af94-74345f4c5bfc",
   "metadata": {},
   "outputs": [
    {
     "data": {
      "text/plain": [
       "int"
      ]
     },
     "execution_count": 6,
     "metadata": {},
     "output_type": "execute_result"
    }
   ],
   "source": [
    "num = 100\n",
    "type(num)"
   ]
  },
  {
   "cell_type": "code",
   "execution_count": 8,
   "id": "8e191d3f-8bee-469f-8ea5-37c0ea2c7012",
   "metadata": {},
   "outputs": [
    {
     "name": "stdout",
     "output_type": "stream",
     "text": [
      "100\n"
     ]
    }
   ],
   "source": [
    "print(num)"
   ]
  },
  {
   "cell_type": "code",
   "execution_count": null,
   "id": "27fe41cd-1a98-4d5f-a2d9-6cb5675eeffa",
   "metadata": {},
   "outputs": [],
   "source": [
    "print()\n",
    "type()"
   ]
  },
  {
   "cell_type": "code",
   "execution_count": null,
   "id": "b9f38424-27c0-49f1-904e-18282c87a795",
   "metadata": {},
   "outputs": [],
   "source": [
    "# we have numerical language\n",
    "# age = 20\n",
    "# distance = 20\n",
    "# salary = 20000\n",
    "# mars\n",
    "# mars ==== earth\n",
    "# how old are you = 7 years\n",
    "# earth ===== mars\n",
    "# 0b111"
   ]
  },
  {
   "cell_type": "markdown",
   "id": "9174d278-fa5d-484c-98b8-ca5226d5f88d",
   "metadata": {},
   "source": [
    "**binary number system**\n",
    "\n",
    "- digits : 0,1,2,3,4,5,6,7,8,9\n",
    "\n",
    "- binary : bi means two : 0 and 1\n",
    "\n",
    "- representation is : 0b001, 0b111, 0b101,0B111\n",
    "\n",
    "- wrong representation is: o, 0b102\n"
   ]
  },
  {
   "cell_type": "code",
   "execution_count": 13,
   "id": "fcfc6466-e1f0-48ff-9759-54d30bcddb1e",
   "metadata": {},
   "outputs": [
    {
     "data": {
      "text/plain": [
       "7"
      ]
     },
     "execution_count": 13,
     "metadata": {},
     "output_type": "execute_result"
    }
   ],
   "source": [
    "0b111"
   ]
  },
  {
   "cell_type": "code",
   "execution_count": 15,
   "id": "8d82c7fb-a529-498e-a281-5e3e870a0fe8",
   "metadata": {},
   "outputs": [
    {
     "data": {
      "text/plain": [
       "21"
      ]
     },
     "execution_count": 15,
     "metadata": {},
     "output_type": "execute_result"
    }
   ],
   "source": [
    "0b10101"
   ]
  },
  {
   "cell_type": "code",
   "execution_count": 17,
   "id": "950e3c2f-9524-4090-932d-dc8b1960b4b6",
   "metadata": {},
   "outputs": [
    {
     "data": {
      "text/plain": [
       "10"
      ]
     },
     "execution_count": 17,
     "metadata": {},
     "output_type": "execute_result"
    }
   ],
   "source": [
    "0b1010\n"
   ]
  },
  {
   "cell_type": "code",
   "execution_count": 19,
   "id": "10c2699d-04f9-4625-9c41-1d87945bbd9a",
   "metadata": {},
   "outputs": [
    {
     "data": {
      "text/plain": [
       "15"
      ]
     },
     "execution_count": 19,
     "metadata": {},
     "output_type": "execute_result"
    }
   ],
   "source": [
    "0b1111"
   ]
  },
  {
   "cell_type": "code",
   "execution_count": null,
   "id": "8c40f7a4-ad86-478f-9c09-0e00fdcc73d7",
   "metadata": {},
   "outputs": [],
   "source": [
    "2^2 = 4 2^1 = 2 2 ^0 = 1\n",
    "0         0          0   0\n",
    "0         0          1   1\n",
    "0         1          0   2\n",
    "0         1          1   3\n",
    "1         0          0   4\n",
    "1         0          1   5\n",
    "1         1          0   6\n",
    "1         1          1   7 \n"
   ]
  },
  {
   "cell_type": "code",
   "execution_count": null,
   "id": "a1a1082b-1f1d-4172-aa5e-d342c6be63f3",
   "metadata": {},
   "outputs": [],
   "source": [
    "2^3 = 8   2^2 = 4    2^1 = 2    2 ^0 = 1\n",
    "    0         0            0          0       0\n",
    "    0        0            0          1       1\n",
    "    0         0            1          0       2\n",
    "    0        0            1          1       3\n",
    "    0       1            0          0       4\n",
    "    0      1            0          1       5\n",
    "             1            1          0       6\n",
    "             1            1          1       7 "
   ]
  },
  {
   "cell_type": "code",
   "execution_count": 21,
   "id": "3f831692-ec3b-43ba-90ce-ba70e5945aab",
   "metadata": {},
   "outputs": [
    {
     "data": {
      "text/plain": [
       "(12, 14)"
      ]
     },
     "execution_count": 21,
     "metadata": {},
     "output_type": "execute_result"
    }
   ],
   "source": [
    "0b1100,0b1110\n"
   ]
  },
  {
   "cell_type": "markdown",
   "id": "1f32b90c-2fbf-46d0-8f63-2f9b5610f9e1",
   "metadata": {},
   "source": [
    "**octal number system**\n",
    "\n",
    "- digits : 0,1,2,3,4,5,6,7,8,9\n",
    "\n",
    "- octa : octa means 8 : 0,1,2,3,4,5,6,7\n",
    "\n",
    "- representation is : 0o567, 0o732\n",
    "\n",
    "- wrong representation is: o, 0o896\n"
   ]
  },
  {
   "cell_type": "code",
   "execution_count": 26,
   "id": "72b1e15b-6e55-49c4-b103-8a366bc60205",
   "metadata": {},
   "outputs": [
    {
     "data": {
      "text/plain": [
       "2196"
      ]
     },
     "execution_count": 26,
     "metadata": {},
     "output_type": "execute_result"
    }
   ],
   "source": [
    "0o4224\n"
   ]
  },
  {
   "cell_type": "code",
   "execution_count": 28,
   "id": "7ff23cba-27c6-4900-9179-ee53ca10b5cd",
   "metadata": {},
   "outputs": [
    {
     "data": {
      "text/plain": [
       "83"
      ]
     },
     "execution_count": 28,
     "metadata": {},
     "output_type": "execute_result"
    }
   ],
   "source": [
    "0o123"
   ]
  },
  {
   "cell_type": "markdown",
   "id": "b5e0ee01-0eba-4ddb-acd7-effdae399070",
   "metadata": {},
   "source": [
    "**HexaDecimal number system**\n",
    "\n",
    "- digits : 0,1,2,3,4,5,6,7,8,9\n",
    "\n",
    "- octa : octa means 8 : 0,1,2,3,4,5,6,7,8,9, A=10, B= 11,C= 12,D= 13,E= 14,F=15\n",
    "\n",
    "- representation is : 0X567, 0x123, 0xabc\n",
    "\n",
    "- wrong representation is: 'o' as start, 0h67"
   ]
  },
  {
   "cell_type": "code",
   "execution_count": 32,
   "id": "db997061-c3b4-4f7f-889b-c33a8f192307",
   "metadata": {},
   "outputs": [
    {
     "data": {
      "text/plain": [
       "291"
      ]
     },
     "execution_count": 32,
     "metadata": {},
     "output_type": "execute_result"
    }
   ],
   "source": [
    "0X123"
   ]
  },
  {
   "cell_type": "code",
   "execution_count": 34,
   "id": "ba033641-91b0-4bed-9c23-cbca17dc254f",
   "metadata": {},
   "outputs": [
    {
     "data": {
      "text/plain": [
       "2748"
      ]
     },
     "execution_count": 34,
     "metadata": {},
     "output_type": "execute_result"
    }
   ],
   "source": [
    "0Xabc"
   ]
  },
  {
   "cell_type": "markdown",
   "id": "6d12e66b-e381-4b12-9db8-e34d79db41d4",
   "metadata": {},
   "source": [
    "**float**\n",
    "- float numbers means continuos points\n",
    "- float numbers means having some decimals.\n",
    "- Integer number means discrete points."
   ]
  },
  {
   "cell_type": "code",
   "execution_count": 2,
   "id": "0be20d67-f1de-47f1-a14d-cbd678e58e2c",
   "metadata": {},
   "outputs": [
    {
     "data": {
      "text/plain": [
       "float"
      ]
     },
     "execution_count": 2,
     "metadata": {},
     "output_type": "execute_result"
    }
   ],
   "source": [
    "number = 100.25\n",
    "type(number)"
   ]
  },
  {
   "cell_type": "markdown",
   "id": "d0ad2acd-05fc-488f-9708-897361ffcf65",
   "metadata": {},
   "source": [
    "- float points can represent as exponential format **e**"
   ]
  },
  {
   "cell_type": "code",
   "execution_count": 6,
   "id": "84b2c73b-c394-4cf2-b3e6-8e730e133af8",
   "metadata": {},
   "outputs": [
    {
     "data": {
      "text/plain": [
       "10000000000.0"
      ]
     },
     "execution_count": 6,
     "metadata": {},
     "output_type": "execute_result"
    }
   ],
   "source": [
    "1e10"
   ]
  },
  {
   "cell_type": "code",
   "execution_count": 8,
   "id": "0c949c46-ffd6-4085-b150-57cd78667bcf",
   "metadata": {},
   "outputs": [
    {
     "data": {
      "text/plain": [
       "(10.0, 100.0, 1000.0)"
      ]
     },
     "execution_count": 8,
     "metadata": {},
     "output_type": "execute_result"
    }
   ],
   "source": [
    "1e1  #1*10\n",
    "1e2  #1*100\n",
    "1e3  #1*1000"
   ]
  },
  {
   "cell_type": "code",
   "execution_count": 10,
   "id": "b0a8bd03-057c-4a4c-afcd-ed50cfe8e893",
   "metadata": {},
   "outputs": [
    {
     "data": {
      "text/plain": [
       "200.0"
      ]
     },
     "execution_count": 10,
     "metadata": {},
     "output_type": "execute_result"
    }
   ],
   "source": [
    "2e2 #2*100"
   ]
  },
  {
   "cell_type": "code",
   "execution_count": 12,
   "id": "09b0e45e-6957-4b85-934b-c80e814743ca",
   "metadata": {},
   "outputs": [
    {
     "data": {
      "text/plain": [
       "1000.0"
      ]
     },
     "execution_count": 12,
     "metadata": {},
     "output_type": "execute_result"
    }
   ],
   "source": [
    "1e+1 #1*10\n",
    "1e+2 #1*100\n",
    "1e+3 #1*1000 (Only latest value is visible in jupyter notebooks)"
   ]
  },
  {
   "cell_type": "code",
   "execution_count": 14,
   "id": "63cd7c9b-1d49-4866-839f-9d42bd23f0f2",
   "metadata": {},
   "outputs": [
    {
     "name": "stdout",
     "output_type": "stream",
     "text": [
      "10.0\n",
      "100.0\n",
      "1000.0\n"
     ]
    }
   ],
   "source": [
    "print(1e+1)\n",
    "print(1e+2)\n",
    "print(1e+3)"
   ]
  },
  {
   "cell_type": "code",
   "execution_count": 16,
   "id": "313944f6-68bb-4faa-b36b-e5d9699d523d",
   "metadata": {},
   "outputs": [
    {
     "data": {
      "text/plain": [
       "(10.0, 100.0, 1000.0)"
      ]
     },
     "execution_count": 16,
     "metadata": {},
     "output_type": "execute_result"
    }
   ],
   "source": [
    "1e+1,1e+2,1e+3"
   ]
  },
  {
   "cell_type": "code",
   "execution_count": 18,
   "id": "b1f70bdd-d111-4aed-940d-ecca2b12f40a",
   "metadata": {},
   "outputs": [
    {
     "data": {
      "text/plain": [
       "(0.1, 0.01, 0.001)"
      ]
     },
     "execution_count": 18,
     "metadata": {},
     "output_type": "execute_result"
    }
   ],
   "source": [
    "1e-1,1e-2,1e-3"
   ]
  },
  {
   "cell_type": "code",
   "execution_count": 20,
   "id": "543904fc-a1b1-490a-ae10-58ae05f8bc0f",
   "metadata": {},
   "outputs": [
    {
     "name": "stdout",
     "output_type": "stream",
     "text": [
      "0.1\n",
      "0.01\n",
      "0.001\n"
     ]
    }
   ],
   "source": [
    "print(1e-1) #1/10\n",
    "print(1e-2) #1/100\n",
    "print(1e-3) #1/1000"
   ]
  },
  {
   "cell_type": "code",
   "execution_count": 22,
   "id": "6b0195ae-f6f8-4587-9efe-856a6a18b503",
   "metadata": {},
   "outputs": [
    {
     "data": {
      "text/plain": [
       "100.0"
      ]
     },
     "execution_count": 22,
     "metadata": {},
     "output_type": "execute_result"
    }
   ],
   "source": [
    "1e+2"
   ]
  },
  {
   "cell_type": "code",
   "execution_count": 24,
   "id": "dc7ec4e8-8e53-4310-8799-5c69898d1bdc",
   "metadata": {},
   "outputs": [
    {
     "data": {
      "text/plain": [
       "1e-15"
      ]
     },
     "execution_count": 24,
     "metadata": {},
     "output_type": "execute_result"
    }
   ],
   "source": [
    "1e-15 #1/100000000000000000000000"
   ]
  },
  {
   "cell_type": "markdown",
   "id": "1919e9ff-fb18-4ae3-a991-a4a5ab820ee5",
   "metadata": {},
   "source": [
    "**Strings**"
   ]
  },
  {
   "cell_type": "markdown",
   "id": "ece06ddb-eda1-4ad0-a374-bf32c3e2d838",
   "metadata": {},
   "source": [
    "- Strings means english characters."
   ]
  },
  {
   "cell_type": "code",
   "execution_count": 28,
   "id": "f3d281bc-01ad-4d8e-9090-2e56be254b45",
   "metadata": {},
   "outputs": [
    {
     "data": {
      "text/plain": [
       "str"
      ]
     },
     "execution_count": 28,
     "metadata": {},
     "output_type": "execute_result"
    }
   ],
   "source": [
    "name = \"Python\"\n",
    "type(name)"
   ]
  },
  {
   "cell_type": "code",
   "execution_count": 32,
   "id": "acb1175e-f1ae-4d0b-b044-03d695791306",
   "metadata": {},
   "outputs": [
    {
     "data": {
      "text/plain": [
       "str"
      ]
     },
     "execution_count": 32,
     "metadata": {},
     "output_type": "execute_result"
    }
   ],
   "source": [
    "number = '10'\n",
    "type(number)"
   ]
  },
  {
   "cell_type": "code",
   "execution_count": 36,
   "id": "985f9eaf-549b-40b9-b6d5-d50fcd5c38a8",
   "metadata": {},
   "outputs": [
    {
     "name": "stdout",
     "output_type": "stream",
     "text": [
      "Hello! I like 'Python'\n"
     ]
    }
   ],
   "source": [
    "sen1 = \"Hello! I like 'Python'\"\n",
    "print(sen1)"
   ]
  },
  {
   "cell_type": "code",
   "execution_count": 38,
   "id": "ffc32545-0045-4616-93ac-710740d4fb2d",
   "metadata": {},
   "outputs": [
    {
     "name": "stdout",
     "output_type": "stream",
     "text": [
      "Hello! I like \"Python\"\n"
     ]
    }
   ],
   "source": [
    "sen2 = 'Hello! I like \"Python\"'\n",
    "print(sen2)"
   ]
  },
  {
   "cell_type": "markdown",
   "id": "974b53b3-f778-4697-84dc-b117f063eaa4",
   "metadata": {},
   "source": [
    "- Entire Sentence in single codes, then use double quotes to highlight the word.\n",
    "- Entire Sentence in double quotes, the use single quotes to highlight the word."
   ]
  },
  {
   "cell_type": "code",
   "execution_count": 41,
   "id": "5b8c4785-ae4b-47b3-b68a-33234b5a94ce",
   "metadata": {},
   "outputs": [
    {
     "data": {
      "text/plain": [
       "'python'"
      ]
     },
     "execution_count": 41,
     "metadata": {},
     "output_type": "execute_result"
    }
   ],
   "source": [
    "name = 'python'\n",
    "name"
   ]
  },
  {
   "cell_type": "code",
   "execution_count": 43,
   "id": "ed281b74-4f70-4ed7-bd30-115760b0f601",
   "metadata": {},
   "outputs": [
    {
     "name": "stdout",
     "output_type": "stream",
     "text": [
      "python\n"
     ]
    }
   ],
   "source": [
    "name = 'python'\n",
    "print(name)"
   ]
  },
  {
   "cell_type": "code",
   "execution_count": 47,
   "id": "e1dcbce0-0397-4933-88cd-d1b428bed6f5",
   "metadata": {},
   "outputs": [
    {
     "data": {
      "text/plain": [
       "'python'"
      ]
     },
     "execution_count": 47,
     "metadata": {},
     "output_type": "execute_result"
    }
   ],
   "source": [
    "name1= 'python'\n",
    "name2 = 'naresh'\n",
    "name2\n",
    "name1"
   ]
  },
  {
   "cell_type": "code",
   "execution_count": 49,
   "id": "8de64abf-03a7-497e-b6a3-32e85215bc0a",
   "metadata": {},
   "outputs": [
    {
     "name": "stdout",
     "output_type": "stream",
     "text": [
      "naresh\n",
      "python\n"
     ]
    }
   ],
   "source": [
    "name1= 'python'\n",
    "name2 = 'naresh'\n",
    "print(name2)\n",
    "print(name1)"
   ]
  },
  {
   "cell_type": "code",
   "execution_count": null,
   "id": "7e1275cf-6719-4b07-bf45-e71a8f8ab557",
   "metadata": {},
   "outputs": [],
   "source": [
    "hello good morning\n",
    "how are you with out /n"
   ]
  },
  {
   "cell_type": "code",
   "execution_count": 55,
   "id": "56143114-2c31-402c-821c-d7f01a835d0f",
   "metadata": {},
   "outputs": [
    {
     "name": "stdout",
     "output_type": "stream",
     "text": [
      "Hello I like 'python' \n",
      "                hai good morning\n",
      "                class data types\n"
     ]
    }
   ],
   "source": [
    "statement = \"\"\"Hello I like 'python' \n",
    "                hai good morning\n",
    "                class data types\"\"\"\n",
    "print(statement)\n"
   ]
  },
  {
   "cell_type": "markdown",
   "id": "55a184ae-7d61-4f17-9643-37e1a2980a2c",
   "metadata": {},
   "source": [
    "**Doc string**"
   ]
  },
  {
   "cell_type": "markdown",
   "id": "42ad6815-1898-4a38-8524-e527bb448bce",
   "metadata": {},
   "source": [
    "- If we want to convey information to the user\n",
    "  \n",
    "- we will write a statements before coding part\n",
    "  \n",
    "- is called as Doc string\n",
    "  \n",
    "- In jupyter notebook to convey information we have **markdown**\n",
    "  \n",
    "- But in VSCode we don't have a Markdown option\n",
    "  \n",
    "- We convey the information by using **triple quotes**\n",
    "  \n",
    "- If we see anywhere triple quotes means the user trying to convey the information."
   ]
  },
  {
   "cell_type": "code",
   "execution_count": 59,
   "id": "0c60f16b-815b-4324-ad9b-b31b94dc9112",
   "metadata": {},
   "outputs": [
    {
     "data": {
      "text/plain": [
       "'\\nwrite something\\n'"
      ]
     },
     "execution_count": 59,
     "metadata": {},
     "output_type": "execute_result"
    }
   ],
   "source": [
    "\"\"\"\n",
    "write something\n",
    "\"\"\"\n",
    "'''\n",
    "write something\n",
    "'''"
   ]
  },
  {
   "cell_type": "markdown",
   "id": "ff2369dc-5c80-4b00-9747-3477507120c0",
   "metadata": {},
   "source": [
    "**Boolean**"
   ]
  },
  {
   "cell_type": "code",
   "execution_count": 62,
   "id": "86b8bbe0-1aca-47a3-919c-4f6490989534",
   "metadata": {},
   "outputs": [
    {
     "data": {
      "text/plain": [
       "bool"
      ]
     },
     "execution_count": 62,
     "metadata": {},
     "output_type": "execute_result"
    }
   ],
   "source": [
    "value = True\n",
    "type(value)"
   ]
  },
  {
   "cell_type": "code",
   "execution_count": 64,
   "id": "34341d1d-b5d2-4c46-9ed7-82bca737e6e2",
   "metadata": {},
   "outputs": [
    {
     "data": {
      "text/plain": [
       "bool"
      ]
     },
     "execution_count": 64,
     "metadata": {},
     "output_type": "execute_result"
    }
   ],
   "source": [
    "value = False\n",
    "type(value)"
   ]
  },
  {
   "cell_type": "code",
   "execution_count": null,
   "id": "cfbe24b9-dc49-432e-8cc0-033e9525a479",
   "metadata": {},
   "outputs": [],
   "source": [
    "true = 'True'\n",
    "true = True\n",
    "true = 10"
   ]
  },
  {
   "cell_type": "code",
   "execution_count": null,
   "id": "9d0a5774-fc83-4701-9eaa-861c2d805702",
   "metadata": {},
   "outputs": [],
   "source": []
  }
 ],
 "metadata": {
  "kernelspec": {
   "display_name": "Python 3 (ipykernel)",
   "language": "python",
   "name": "python3"
  },
  "language_info": {
   "codemirror_mode": {
    "name": "ipython",
    "version": 3
   },
   "file_extension": ".py",
   "mimetype": "text/x-python",
   "name": "python",
   "nbconvert_exporter": "python",
   "pygments_lexer": "ipython3",
   "version": "3.12.4"
  }
 },
 "nbformat": 4,
 "nbformat_minor": 5
}
